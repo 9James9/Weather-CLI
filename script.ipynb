{
 "cells": [
  {
   "cell_type": "code",
   "execution_count": 71,
   "metadata": {},
   "outputs": [],
   "source": [
    "import requests\n",
    "import json"
   ]
  },
  {
   "cell_type": "code",
   "execution_count": 72,
   "metadata": {},
   "outputs": [],
   "source": [
    "def get_response():\n",
    "    city = input(\"Enter the city you want to check\")\n",
    "    response = requests.get(\"https://api.openweathermap.org/data/2.5/weather?q={}&appid=eb40cd8fe7b3bb3460776fbee82754b2\".format(city))\n",
    "    return response"
   ]
  },
  {
   "cell_type": "code",
   "execution_count": 73,
   "metadata": {},
   "outputs": [],
   "source": [
    "# response = requests.get(\"https://api.openweathermap.org/data/2.5/weather?q=dallas&appid=eb40cd8fe7b3bb3460776fbee82754b2\")"
   ]
  },
  {
   "cell_type": "code",
   "execution_count": 74,
   "metadata": {},
   "outputs": [],
   "source": [
    "response = get_response()"
   ]
  },
  {
   "cell_type": "code",
   "execution_count": 75,
   "metadata": {},
   "outputs": [],
   "source": [
    "# text = json.dumps(response.json(),sort_keys=True, indent=4)\n",
    "# print(text)"
   ]
  },
  {
   "cell_type": "code",
   "execution_count": null,
   "metadata": {},
   "outputs": [],
   "source": []
  },
  {
   "cell_type": "code",
   "execution_count": 76,
   "metadata": {},
   "outputs": [],
   "source": [
    "def convert_k_to_c(kelvin):\n",
    "    return kelvin - 273.15"
   ]
  },
  {
   "cell_type": "code",
   "execution_count": 77,
   "metadata": {},
   "outputs": [],
   "source": [
    "def convert_c_to_f(celcius):\n",
    "    return (celcius * 1.8) + 32"
   ]
  },
  {
   "cell_type": "code",
   "execution_count": 78,
   "metadata": {},
   "outputs": [],
   "source": [
    "def convert_k_to_f(kelvin):\n",
    "    celcius = convert_k_to_c(kelvin)\n",
    "    output = convert_c_to_f(celcius)\n",
    "    return output"
   ]
  },
  {
   "cell_type": "code",
   "execution_count": null,
   "metadata": {},
   "outputs": [],
   "source": []
  },
  {
   "cell_type": "code",
   "execution_count": 82,
   "metadata": {},
   "outputs": [
    {
     "name": "stdout",
     "output_type": "stream",
     "text": [
      "Current temperature: 72.09 F\n",
      "Feels like: 69.66 F\n"
     ]
    }
   ],
   "source": [
    "def print_temps():\n",
    "    print(\"Current temperature: \" + str(round(convert_k_to_f(response.json()['main']['temp']),2)) + \" F\")\n",
    "    feels_like = round(convert_k_to_f(response.json()['main']['feels_like']),2)\n",
    "    print(\"Feels like: \" + str(feels_like) + \" F\")\n",
    "print_temps()"
   ]
  }
 ],
 "metadata": {
  "interpreter": {
   "hash": "aee8b7b246df8f9039afb4144a1f6fd8d2ca17a180786b69acc140d282b71a49"
  },
  "kernelspec": {
   "display_name": "Python 3.9.7 64-bit",
   "language": "python",
   "name": "python3"
  },
  "language_info": {
   "codemirror_mode": {
    "name": "ipython",
    "version": 3
   },
   "file_extension": ".py",
   "mimetype": "text/x-python",
   "name": "python",
   "nbconvert_exporter": "python",
   "pygments_lexer": "ipython3",
   "version": "3.9.7"
  },
  "orig_nbformat": 4
 },
 "nbformat": 4,
 "nbformat_minor": 2
}
