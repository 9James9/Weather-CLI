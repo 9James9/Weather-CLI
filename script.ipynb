{
 "cells": [
  {
   "cell_type": "code",
   "execution_count": 35,
   "metadata": {},
   "outputs": [],
   "source": [
    "import requests\n",
    "import json"
   ]
  },
  {
   "cell_type": "code",
   "execution_count": null,
   "metadata": {},
   "outputs": [],
   "source": [
    "def get_response(city):\n",
    "    response = requests.get(\"https://api.openweathermap.org/data/2.5/weather?q={}&appid=eb40cd8fe7b3bb3460776fbee82754b2\").format(city)\n",
    "    return response"
   ]
  },
  {
   "cell_type": "code",
   "execution_count": 36,
   "metadata": {},
   "outputs": [
    {
     "name": "stdout",
     "output_type": "stream",
     "text": [
      "200\n"
     ]
    }
   ],
   "source": [
    "# response = requests.get(\"https://api.openweathermap.org/data/2.5/weather?q=dallas&appid=eb40cd8fe7b3bb3460776fbee82754b2\")"
   ]
  },
  {
   "cell_type": "code",
   "execution_count": 37,
   "metadata": {},
   "outputs": [
    {
     "name": "stdout",
     "output_type": "stream",
     "text": [
      "{'coord': {'lon': -96.7836, 'lat': 32.7668}, 'weather': [{'id': 800, 'main': 'Clear', 'description': 'clear sky', 'icon': '01n'}], 'base': 'stations', 'main': {'temp': 281.13, 'feels_like': 281.13, 'temp_min': 278.16, 'temp_max': 284.35, 'pressure': 1017, 'humidity': 55}, 'visibility': 10000, 'wind': {'speed': 0, 'deg': 0}, 'clouds': {'all': 0}, 'dt': 1648201053, 'sys': {'type': 2, 'id': 2033373, 'country': 'US', 'sunrise': 1648211049, 'sunset': 1648255310}, 'timezone': -18000, 'id': 4684904, 'name': 'Dallas', 'cod': 200}\n"
     ]
    }
   ],
   "source": [
    "city = input(\"Enter the city you want to check\")"
   ]
  },
  {
   "cell_type": "code",
   "execution_count": 38,
   "metadata": {},
   "outputs": [
    {
     "name": "stdout",
     "output_type": "stream",
     "text": [
      "{\n",
      "    \"base\": \"stations\",\n",
      "    \"clouds\": {\n",
      "        \"all\": 0\n",
      "    },\n",
      "    \"cod\": 200,\n",
      "    \"coord\": {\n",
      "        \"lat\": 32.7668,\n",
      "        \"lon\": -96.7836\n",
      "    },\n",
      "    \"dt\": 1648201053,\n",
      "    \"id\": 4684904,\n",
      "    \"main\": {\n",
      "        \"feels_like\": 281.13,\n",
      "        \"humidity\": 55,\n",
      "        \"pressure\": 1017,\n",
      "        \"temp\": 281.13,\n",
      "        \"temp_max\": 284.35,\n",
      "        \"temp_min\": 278.16\n",
      "    },\n",
      "    \"name\": \"Dallas\",\n",
      "    \"sys\": {\n",
      "        \"country\": \"US\",\n",
      "        \"id\": 2033373,\n",
      "        \"sunrise\": 1648211049,\n",
      "        \"sunset\": 1648255310,\n",
      "        \"type\": 2\n",
      "    },\n",
      "    \"timezone\": -18000,\n",
      "    \"visibility\": 10000,\n",
      "    \"weather\": [\n",
      "        {\n",
      "            \"description\": \"clear sky\",\n",
      "            \"icon\": \"01n\",\n",
      "            \"id\": 800,\n",
      "            \"main\": \"Clear\"\n",
      "        }\n",
      "    ],\n",
      "    \"wind\": {\n",
      "        \"deg\": 0,\n",
      "        \"speed\": 0\n",
      "    }\n",
      "}\n"
     ]
    }
   ],
   "source": [
    "text = json.dumps(response.json(),sort_keys=True, indent=4)\n",
    "print(text)"
   ]
  },
  {
   "cell_type": "code",
   "execution_count": 39,
   "metadata": {},
   "outputs": [
    {
     "name": "stdout",
     "output_type": "stream",
     "text": [
      "281.13\n"
     ]
    }
   ],
   "source": [
    "test = response.json()['main']['temp']\n",
    "print(test)"
   ]
  },
  {
   "cell_type": "code",
   "execution_count": 40,
   "metadata": {},
   "outputs": [],
   "source": [
    "def convert_k_to_c(kelvin):\n",
    "    return kelvin - 273.15"
   ]
  },
  {
   "cell_type": "code",
   "execution_count": 41,
   "metadata": {},
   "outputs": [],
   "source": [
    "def convert_c_to_f(celcius):\n",
    "    return (celcius * 1.8) + 32"
   ]
  },
  {
   "cell_type": "code",
   "execution_count": 42,
   "metadata": {},
   "outputs": [],
   "source": [
    "def convert_k_to_f(kelvin):\n",
    "    celcius = convert_k_to_c(kelvin)\n",
    "    output = convert_c_to_f(celcius)\n",
    "    return output"
   ]
  },
  {
   "cell_type": "code",
   "execution_count": 43,
   "metadata": {},
   "outputs": [
    {
     "name": "stdout",
     "output_type": "stream",
     "text": [
      "46.36400000000003\n"
     ]
    }
   ],
   "source": [
    "print(convert_k_to_f(response.json()['main']['temp']))"
   ]
  }
 ],
 "metadata": {
  "interpreter": {
   "hash": "aee8b7b246df8f9039afb4144a1f6fd8d2ca17a180786b69acc140d282b71a49"
  },
  "kernelspec": {
   "display_name": "Python 3.9.7 64-bit",
   "language": "python",
   "name": "python3"
  },
  "language_info": {
   "codemirror_mode": {
    "name": "ipython",
    "version": 3
   },
   "file_extension": ".py",
   "mimetype": "text/x-python",
   "name": "python",
   "nbconvert_exporter": "python",
   "pygments_lexer": "ipython3",
   "version": "3.9.7"
  },
  "orig_nbformat": 4
 },
 "nbformat": 4,
 "nbformat_minor": 2
}
