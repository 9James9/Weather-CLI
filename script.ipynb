{
 "cells": [
  {
   "cell_type": "code",
   "execution_count": 93,
   "metadata": {},
   "outputs": [],
   "source": [
    "import requests\n",
    "import json"
   ]
  },
  {
   "cell_type": "code",
   "execution_count": 94,
   "metadata": {},
   "outputs": [],
   "source": [
    "def get_response():\n",
    "    city = input(\"Enter the city you want to check\")\n",
    "    response = requests.get(\"https://api.openweathermap.org/data/2.5/weather?q={}&appid=eb40cd8fe7b3bb3460776fbee82754b2\".format(city))\n",
    "    return response"
   ]
  },
  {
   "cell_type": "code",
   "execution_count": 95,
   "metadata": {},
   "outputs": [],
   "source": [
    "# response = requests.get(\"https://api.openweathermap.org/data/2.5/weather?q=dallas&appid=eb40cd8fe7b3bb3460776fbee82754b2\")"
   ]
  },
  {
   "cell_type": "code",
   "execution_count": 96,
   "metadata": {},
   "outputs": [],
   "source": [
    "response = get_response()"
   ]
  },
  {
   "cell_type": "code",
   "execution_count": 97,
   "metadata": {},
   "outputs": [
    {
     "name": "stdout",
     "output_type": "stream",
     "text": [
      "{\n",
      "    \"base\": \"stations\",\n",
      "    \"clouds\": {\n",
      "        \"all\": 20\n",
      "    },\n",
      "    \"cod\": 200,\n",
      "    \"coord\": {\n",
      "        \"lat\": 32.7668,\n",
      "        \"lon\": -96.7836\n",
      "    },\n",
      "    \"dt\": 1648228587,\n",
      "    \"id\": 4684904,\n",
      "    \"main\": {\n",
      "        \"feels_like\": 294.34,\n",
      "        \"humidity\": 14,\n",
      "        \"pressure\": 1021,\n",
      "        \"temp\": 295.67,\n",
      "        \"temp_max\": 296.67,\n",
      "        \"temp_min\": 292.75\n",
      "    },\n",
      "    \"name\": \"Dallas\",\n",
      "    \"sys\": {\n",
      "        \"country\": \"US\",\n",
      "        \"id\": 3783,\n",
      "        \"sunrise\": 1648211049,\n",
      "        \"sunset\": 1648255310,\n",
      "        \"type\": 1\n",
      "    },\n",
      "    \"timezone\": -18000,\n",
      "    \"visibility\": 10000,\n",
      "    \"weather\": [\n",
      "        {\n",
      "            \"description\": \"smoke\",\n",
      "            \"icon\": \"50d\",\n",
      "            \"id\": 711,\n",
      "            \"main\": \"Smoke\"\n",
      "        }\n",
      "    ],\n",
      "    \"wind\": {\n",
      "        \"deg\": 200,\n",
      "        \"speed\": 3.09\n",
      "    }\n",
      "}\n"
     ]
    }
   ],
   "source": [
    "text = json.dumps(response.json(),sort_keys=True, indent=4)\n",
    "print(text)"
   ]
  },
  {
   "cell_type": "code",
   "execution_count": null,
   "metadata": {},
   "outputs": [],
   "source": []
  },
  {
   "cell_type": "code",
   "execution_count": 98,
   "metadata": {},
   "outputs": [],
   "source": [
    "def convert_k_to_c(kelvin):\n",
    "    return kelvin - 273.15"
   ]
  },
  {
   "cell_type": "code",
   "execution_count": 99,
   "metadata": {},
   "outputs": [],
   "source": [
    "def convert_c_to_f(celcius):\n",
    "    return (celcius * 1.8) + 32"
   ]
  },
  {
   "cell_type": "code",
   "execution_count": 100,
   "metadata": {},
   "outputs": [],
   "source": [
    "def convert_k_to_f(kelvin):\n",
    "    celcius = convert_k_to_c(kelvin)\n",
    "    output = convert_c_to_f(celcius)\n",
    "    return output"
   ]
  },
  {
   "cell_type": "code",
   "execution_count": null,
   "metadata": {},
   "outputs": [],
   "source": []
  },
  {
   "cell_type": "code",
   "execution_count": 105,
   "metadata": {},
   "outputs": [
    {
     "name": "stdout",
     "output_type": "stream",
     "text": [
      "Current weather for Dallas\n",
      "Current temperature: 72.54 F\n",
      "Feels like: 70.14 F\n",
      "Humidity: 14\n"
     ]
    }
   ],
   "source": [
    "def print_temps():\n",
    "    print(\"Current weather for \" + response.json()['name'])\n",
    "    print(\"Current temperature: \" + str(round(convert_k_to_f(response.json()['main']['temp']),2)) + \" F\")\n",
    "    feels_like = round(convert_k_to_f(response.json()['main']['feels_like']),2)\n",
    "    print(\"Feels like: \" + str(feels_like) + \" F\")\n",
    "    humidity = response.json()['main']['humidity']\n",
    "    print(\"Humidity: \" + str(humidity))\n",
    "    \n",
    "print_temps()"
   ]
  }
 ],
 "metadata": {
  "interpreter": {
   "hash": "aee8b7b246df8f9039afb4144a1f6fd8d2ca17a180786b69acc140d282b71a49"
  },
  "kernelspec": {
   "display_name": "Python 3.9.7 64-bit",
   "language": "python",
   "name": "python3"
  },
  "language_info": {
   "codemirror_mode": {
    "name": "ipython",
    "version": 3
   },
   "file_extension": ".py",
   "mimetype": "text/x-python",
   "name": "python",
   "nbconvert_exporter": "python",
   "pygments_lexer": "ipython3",
   "version": "3.9.7"
  },
  "orig_nbformat": 4
 },
 "nbformat": 4,
 "nbformat_minor": 2
}
