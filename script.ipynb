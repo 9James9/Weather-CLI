{
 "cells": [
  {
   "cell_type": "code",
   "execution_count": 56,
   "metadata": {},
   "outputs": [],
   "source": [
    "import requests\n",
    "import json"
   ]
  },
  {
   "cell_type": "code",
   "execution_count": 57,
   "metadata": {},
   "outputs": [],
   "source": [
    "def get_response():\n",
    "    city = input(\"Enter the city you want to check\")\n",
    "    response = requests.get(\"https://api.openweathermap.org/data/2.5/weather?q={}&appid=eb40cd8fe7b3bb3460776fbee82754b2\".format(city))\n",
    "    return response"
   ]
  },
  {
   "cell_type": "code",
   "execution_count": 58,
   "metadata": {},
   "outputs": [],
   "source": [
    "# response = requests.get(\"https://api.openweathermap.org/data/2.5/weather?q=dallas&appid=eb40cd8fe7b3bb3460776fbee82754b2\")"
   ]
  },
  {
   "cell_type": "code",
   "execution_count": 59,
   "metadata": {},
   "outputs": [],
   "source": [
    "response = get_response()"
   ]
  },
  {
   "cell_type": "code",
   "execution_count": 60,
   "metadata": {},
   "outputs": [
    {
     "name": "stdout",
     "output_type": "stream",
     "text": [
      "{\n",
      "    \"base\": \"stations\",\n",
      "    \"clouds\": {\n",
      "        \"all\": 0\n",
      "    },\n",
      "    \"cod\": 200,\n",
      "    \"coord\": {\n",
      "        \"lat\": 32.9346,\n",
      "        \"lon\": -97.2517\n",
      "    },\n",
      "    \"dt\": 1648228010,\n",
      "    \"id\": 4702828,\n",
      "    \"main\": {\n",
      "        \"feels_like\": 293.93,\n",
      "        \"humidity\": 19,\n",
      "        \"pressure\": 1020,\n",
      "        \"temp\": 295.18,\n",
      "        \"temp_max\": 297.13,\n",
      "        \"temp_min\": 293.52\n",
      "    },\n",
      "    \"name\": \"Keller\",\n",
      "    \"sys\": {\n",
      "        \"country\": \"US\",\n",
      "        \"id\": 2011189,\n",
      "        \"sunrise\": 1648211159,\n",
      "        \"sunset\": 1648255425,\n",
      "        \"type\": 2\n",
      "    },\n",
      "    \"timezone\": -18000,\n",
      "    \"visibility\": 10000,\n",
      "    \"weather\": [\n",
      "        {\n",
      "            \"description\": \"clear sky\",\n",
      "            \"icon\": \"01d\",\n",
      "            \"id\": 800,\n",
      "            \"main\": \"Clear\"\n",
      "        }\n",
      "    ],\n",
      "    \"wind\": {\n",
      "        \"deg\": 140,\n",
      "        \"speed\": 3.6\n",
      "    }\n",
      "}\n"
     ]
    }
   ],
   "source": [
    "# text = json.dumps(response.json(),sort_keys=True, indent=4)\n",
    "# print(text)"
   ]
  },
  {
   "cell_type": "code",
   "execution_count": 61,
   "metadata": {},
   "outputs": [
    {
     "name": "stdout",
     "output_type": "stream",
     "text": [
      "295.18\n"
     ]
    }
   ],
   "source": []
  },
  {
   "cell_type": "code",
   "execution_count": 62,
   "metadata": {},
   "outputs": [],
   "source": [
    "def convert_k_to_c(kelvin):\n",
    "    return kelvin - 273.15"
   ]
  },
  {
   "cell_type": "code",
   "execution_count": 63,
   "metadata": {},
   "outputs": [],
   "source": [
    "def convert_c_to_f(celcius):\n",
    "    return (celcius * 1.8) + 32"
   ]
  },
  {
   "cell_type": "code",
   "execution_count": 64,
   "metadata": {},
   "outputs": [],
   "source": [
    "def convert_k_to_f(kelvin):\n",
    "    celcius = convert_k_to_c(kelvin)\n",
    "    output = convert_c_to_f(celcius)\n",
    "    return output"
   ]
  },
  {
   "cell_type": "code",
   "execution_count": 70,
   "metadata": {},
   "outputs": [
    {
     "name": "stdout",
     "output_type": "stream",
     "text": [
      "Current temperature: 71.65 F\n"
     ]
    }
   ],
   "source": [
    "print(\"Current temperature: \" + str(round(convert_k_to_f(response.json()['main']['temp']),2)) + \" F\")"
   ]
  }
 ],
 "metadata": {
  "interpreter": {
   "hash": "aee8b7b246df8f9039afb4144a1f6fd8d2ca17a180786b69acc140d282b71a49"
  },
  "kernelspec": {
   "display_name": "Python 3.9.7 64-bit",
   "language": "python",
   "name": "python3"
  },
  "language_info": {
   "codemirror_mode": {
    "name": "ipython",
    "version": 3
   },
   "file_extension": ".py",
   "mimetype": "text/x-python",
   "name": "python",
   "nbconvert_exporter": "python",
   "pygments_lexer": "ipython3",
   "version": "3.9.7"
  },
  "orig_nbformat": 4
 },
 "nbformat": 4,
 "nbformat_minor": 2
}
